{
 "cells": [
  {
   "cell_type": "code",
   "execution_count": null,
   "id": "64fe3465",
   "metadata": {},
   "outputs": [],
   "source": [
    "# LESSON_2 - WORKING WITH BASIC NUMBERS\n",
    "'''\n",
    "Numbers are the most basic data type in Python. They can be integers, floats, or complex numbers\n",
    "You can define an integer, a floating point number and a complex number as follows −\n",
    "var1 = 1\n",
    "var2 = 10.5\n",
    "var3 = 1+2j\n",
    "To verify the type of any object in Python, use the type() function. This function will also tell you the class a variable or a value belongs to. \n",
    "The isinstance() function is used to check if an object belongs to a particular class.\n",
    "'''"
   ]
  },
  {
   "cell_type": "code",
   "execution_count": 10,
   "id": "9cf00c17",
   "metadata": {},
   "outputs": [],
   "source": [
    "num1 = 5\n",
    "num2 = 20"
   ]
  },
  {
   "cell_type": "code",
   "execution_count": 11,
   "id": "facb775a",
   "metadata": {},
   "outputs": [
    {
     "name": "stdout",
     "output_type": "stream",
     "text": [
      "Add:  25\n"
     ]
    }
   ],
   "source": [
    "# ADDITTION\n",
    "print(\"Add: \", num1 + num2)"
   ]
  },
  {
   "cell_type": "code",
   "execution_count": 12,
   "id": "45bde9c9",
   "metadata": {},
   "outputs": [
    {
     "name": "stdout",
     "output_type": "stream",
     "text": [
      "Subtract:  15\n"
     ]
    }
   ],
   "source": [
    "# SUBTTRACTION\n",
    "print(\"Subtract: \", num2 - num1)"
   ]
  },
  {
   "cell_type": "code",
   "execution_count": 13,
   "id": "c14d43ec",
   "metadata": {},
   "outputs": [
    {
     "name": "stdout",
     "output_type": "stream",
     "text": [
      "Multiply:  100\n"
     ]
    }
   ],
   "source": [
    "# MULTIPLICATION\n",
    "print(\"Multiply: \", num1 * num2)"
   ]
  },
  {
   "cell_type": "code",
   "execution_count": 14,
   "id": "74f68792",
   "metadata": {},
   "outputs": [
    {
     "name": "stdout",
     "output_type": "stream",
     "text": [
      "Divide:  4.0\n"
     ]
    }
   ],
   "source": [
    "# REGULAR DIVISION\n",
    "print(\"Divide: \", num2 / num1)"
   ]
  },
  {
   "cell_type": "code",
   "execution_count": 15,
   "id": "b1808fb5",
   "metadata": {},
   "outputs": [
    {
     "name": "stdout",
     "output_type": "stream",
     "text": [
      "Modulus:  0\n"
     ]
    }
   ],
   "source": [
    "# MODULUS - returns the remainder of a division operation\n",
    "print(\"Modulus: \", num2 % num1)"
   ]
  },
  {
   "cell_type": "code",
   "execution_count": 16,
   "id": "5c6ba419",
   "metadata": {},
   "outputs": [
    {
     "name": "stdout",
     "output_type": "stream",
     "text": [
      "Floor Division:  4\n"
     ]
    }
   ],
   "source": [
    "# FLOOR DIVISION - returns largest possible integer \n",
    "print(\"Floor Division: \", num2 // num1)"
   ]
  },
  {
   "cell_type": "code",
   "execution_count": 17,
   "id": "302a9b48",
   "metadata": {
    "scrolled": true
   },
   "outputs": [
    {
     "name": "stdout",
     "output_type": "stream",
     "text": [
      "Exponentatoin:  95367431640625\n"
     ]
    }
   ],
   "source": [
    "# EXPONENTATION - to the power of -> will make a huge number\n",
    "print(\"Exponentation: \", num1 ** num2)"
   ]
  },
  {
   "cell_type": "code",
   "execution_count": 18,
   "id": "25d602b9",
   "metadata": {},
   "outputs": [
    {
     "name": "stdout",
     "output_type": "stream",
     "text": [
      "Type of a:  <class 'int'>\n",
      "IsInstance int a:  True\n",
      "Type of b:  <class 'float'>\n",
      "IsInstance float b:  True\n",
      "Type of c:  <class 'complex'>\n",
      "IsInstance complex c:  True\n"
     ]
    }
   ],
   "source": [
    "# CHECK TYPES\n",
    "a = 5\n",
    "print(\"Type of a: \", type(a))\n",
    "print(\"IsInstance int a: \", isinstance(a, int))\n",
    "\n",
    "b = 2.0\n",
    "print(\"Type of b: \", type(b))\n",
    "print(\"IsInstance float b: \", isinstance(b, float))\n",
    "\n",
    "c = 1 + 2j\n",
    "print(\"Type of c: \", type(c))\n",
    "print(\"IsInstance complex c: \", isinstance(c,complex))"
   ]
  }
 ],
 "metadata": {
  "kernelspec": {
   "display_name": "Python 3 (ipykernel)",
   "language": "python",
   "name": "python3"
  },
  "language_info": {
   "codemirror_mode": {
    "name": "ipython",
    "version": 3
   },
   "file_extension": ".py",
   "mimetype": "text/x-python",
   "name": "python",
   "nbconvert_exporter": "python",
   "pygments_lexer": "ipython3",
   "version": "3.11.2"
  }
 },
 "nbformat": 4,
 "nbformat_minor": 5
}
