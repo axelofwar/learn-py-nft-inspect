{
 "cells": [
  {
   "attachments": {},
   "cell_type": "markdown",
   "metadata": {},
   "source": [
    "# LESSON 5 - PRINT METHODS AND TUPLES\n",
    "\n",
    "Python provides a number of ways to perform printing. Research how to print using the print operator, the `format` string method, and by using f-strings. Print statememnts are useful for monitoring the status and progress of your program - as well as printing detailed error messages to the console at points in your program in order to debug and figure out what's gong wrong!"
   ]
  },
  {
   "attachments": {},
   "cell_type": "markdown",
   "metadata": {},
   "source": [
    "### PRINTING: "
   ]
  },
  {
   "cell_type": "code",
   "execution_count": 1,
   "metadata": {},
   "outputs": [],
   "source": [
    "x = 10\n",
    "y = 2.24552\n",
    "z = \"I like turtles!\""
   ]
  },
  {
   "cell_type": "code",
   "execution_count": 2,
   "metadata": {},
   "outputs": [
    {
     "name": "stdout",
     "output_type": "stream",
     "text": [
      "x is 10, y is 2.245520, z is I like turtles!\n"
     ]
    }
   ],
   "source": [
    "# We can use the print operator (%) to print out variables in a string\n",
    "print(\"x is %d, y is %f, z is %s\" % (x, y, z))"
   ]
  },
  {
   "cell_type": "code",
   "execution_count": 3,
   "metadata": {},
   "outputs": [
    {
     "name": "stdout",
     "output_type": "stream",
     "text": [
      "x is 10, y is 2.24552, z is I like turtles!\n"
     ]
    }
   ],
   "source": [
    "# We can use the format string method to print out variables in a string\n",
    "print(\"x is {}, y is {}, z is {}\".format(x, y, z))"
   ]
  },
  {
   "cell_type": "code",
   "execution_count": 4,
   "metadata": {},
   "outputs": [
    {
     "name": "stdout",
     "output_type": "stream",
     "text": [
      "x is 10, y is 2.24552, z is I like turtles!\n"
     ]
    }
   ],
   "source": [
    "# Finally, we can use an f-string to print out variables in a string - similar to inline format\n",
    "print(f\"x is {x}, y is {y}, z is {z}\")"
   ]
  },
  {
   "attachments": {},
   "cell_type": "markdown",
   "metadata": {},
   "source": [
    "### TUPLES: "
   ]
  },
  {
   "attachments": {},
   "cell_type": "markdown",
   "metadata": {},
   "source": [
    "A tuple is a collection which is ordered and unchangeable, in other words immutable. In Python tuples are written with (round brackets), and a tuple can contain multiple lists and dictionaries."
   ]
  },
  {
   "cell_type": "code",
   "execution_count": 5,
   "metadata": {},
   "outputs": [],
   "source": [
    "import math # we need the math library to do some math functions -like square roots\n",
    "\n",
    "# Define a function to compute the distance between two x,y points\n",
    "def dist(a, b):\n",
    "    x0, y0 = a  # Destructuring assignment\n",
    "    x1, y1 = b\n",
    "\n",
    "    return math.sqrt((x1 - x0)**2 + (y1 - y0)**2)\n",
    "# if you remember - using the ** operator is the same as using the math.pow() function\n",
    "# so (x1 - x0)**2 is the same as math.pow((x1 - x0), 2) or (x1 - x0)^2 in math notation"
   ]
  },
  {
   "cell_type": "code",
   "execution_count": 6,
   "metadata": {},
   "outputs": [
    {
     "name": "stdout",
     "output_type": "stream",
     "text": [
      "Distance is: 66.94\n"
     ]
    }
   ],
   "source": [
    "# Store the x,y coordinates of two points in tuples\n",
    "a = (2, 7)   # <-- x,y coordinates stored in tuples\n",
    "b = (-14, 72)\n",
    "\n",
    "# Prints distance\n",
    "print(\"Distance is: {:.2f}\".format(dist(a, b)))"
   ]
  },
  {
   "cell_type": "code",
   "execution_count": 7,
   "metadata": {},
   "outputs": [
    {
     "name": "stdout",
     "output_type": "stream",
     "text": [
      "1\n",
      "2\n",
      "5\n",
      "7\n",
      "99\n"
     ]
    }
   ],
   "source": [
    "# Define a function that prints all the values in a tuple\n",
    "def print_tuple(t):\n",
    "    for item in t:\n",
    "        print(item)\n",
    "\n",
    "# Print an example tuple that uses the print_tuple function\n",
    "t = (1, 2, 5, 7, 99)\n",
    "print_tuple(t)  # Prints 1 2 5 7 99, one per line"
   ]
  },
  {
   "cell_type": "code",
   "execution_count": 8,
   "metadata": {},
   "outputs": [
    {
     "name": "stdout",
     "output_type": "stream",
     "text": [
      "1\n",
      "[1]\n",
      "{1}\n",
      "(1,)\n"
     ]
    }
   ],
   "source": [
    "# Declare a tuple of 1 element then print it\n",
    "u = (1)  # What needs to be added to make this work?\n",
    "u = (1,)\n",
    "# this works because the comma tells python that it is a tuple with one element and not an integer\n",
    "print_tuple(u)\n",
    "\n",
    "# we can also use the list() function to convert a tuple to a list\n",
    "u = list(u)\n",
    "print(u)\n",
    "\n",
    "# we can also use the set() function to convert a list to a set\n",
    "u = set(u)\n",
    "print(u)\n",
    "\n",
    "# we can also use the tuple() function to convert a list to a tuple\n",
    "u = tuple(u)\n",
    "print(u)"
   ]
  }
 ],
 "metadata": {
  "kernelspec": {
   "display_name": "Python 3",
   "language": "python",
   "name": "python3"
  },
  "language_info": {
   "codemirror_mode": {
    "name": "ipython",
    "version": 3
   },
   "file_extension": ".py",
   "mimetype": "text/x-python",
   "name": "python",
   "nbconvert_exporter": "python",
   "pygments_lexer": "ipython3",
   "version": "3.8.10"
  },
  "orig_nbformat": 4,
  "vscode": {
   "interpreter": {
    "hash": "aee8b7b246df8f9039afb4144a1f6fd8d2ca17a180786b69acc140d282b71a49"
   }
  }
 },
 "nbformat": 4,
 "nbformat_minor": 2
}
