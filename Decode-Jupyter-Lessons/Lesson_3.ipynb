{
 "cells": [
  {
   "attachments": {},
   "cell_type": "markdown",
   "id": "c1258efd",
   "metadata": {},
   "source": [
    "# LESSON 3 - DATA TYPES\n",
    "\n",
    "### DATA TYPES: \n",
    "Python is a strongly-typed language under the hood, which means\n",
    "that the types of values matter, especially when we're trying\n",
    "to perform operations on them. Python will infer the type if you set a variable equal to another, but if we explicitly set the types like we do below - then strongly-typed implications come into play. \n"
   ]
  },
  {
   "attachments": {},
   "cell_type": "markdown",
   "id": "4ec7e4ba",
   "metadata": {},
   "source": [
    "#### EXAMPLE: \n",
    "In the example below, we are creating a variable called `x` and\n",
    "assigning it the value of 5. Python will infer that `x` is an **integer**\n",
    "because we assigned it an integer value by setting a whole numer to it.\n",
    "\n",
    "We then create another variable called `y` and assign it the\n",
    "value of \"7\". Python will infer that `y` is a **string** because we\n",
    "assigned it a string value by putting the quotations around it.\n",
    "\n",
    "Note: if you try running the following code without making any\n",
    "changes, you'll get a TypeError saying you can't perform an operation\n",
    "on a string and an integer."
   ]
  },
  {
   "cell_type": "code",
   "execution_count": 3,
   "id": "b1b09da5",
   "metadata": {},
   "outputs": [],
   "source": [
    "x = 5\n",
    "y = \"7\""
   ]
  },
  {
   "cell_type": "code",
   "execution_count": 4,
   "id": "8f96cb92",
   "metadata": {},
   "outputs": [
    {
     "ename": "TypeError",
     "evalue": "unsupported operand type(s) for +: 'int' and 'str'",
     "output_type": "error",
     "traceback": [
      "\u001b[0;31m---------------------------------------------------------------------------\u001b[0m",
      "\u001b[0;31mTypeError\u001b[0m                                 Traceback (most recent call last)",
      "Cell \u001b[0;32mIn[4], line 6\u001b[0m\n\u001b[1;32m      1\u001b[0m \u001b[39m'''\u001b[39;00m\n\u001b[1;32m      2\u001b[0m \u001b[39mTry to print the combination of `x` and `y` \u001b[39;00m\n\u001b[1;32m      3\u001b[0m \u001b[39myou will get an error because there is a type mismatch\u001b[39;00m\n\u001b[1;32m      4\u001b[0m \u001b[39m'''\u001b[39;00m\n\u001b[0;32m----> 6\u001b[0m \u001b[39mprint\u001b[39m(x \u001b[39m+\u001b[39;49m y)\n",
      "\u001b[0;31mTypeError\u001b[0m: unsupported operand type(s) for +: 'int' and 'str'"
     ]
    }
   ],
   "source": [
    "'''\n",
    "Try to print the combination of `x` and `y` \n",
    "you will get an error because there is a type mismatch\n",
    "'''\n",
    "\n",
    "print(x + y)"
   ]
  },
  {
   "cell_type": "code",
   "execution_count": 7,
   "id": "e5ef5319",
   "metadata": {},
   "outputs": [
    {
     "name": "stdout",
     "output_type": "stream",
     "text": [
      "Add as strings:  57\n",
      "Add as integers:  12\n"
     ]
    }
   ],
   "source": [
    "'''\n",
    "If you run the above code with no modifications, you'll get an error.\n",
    "This is because of the type mismatch as we mentioned above.\n",
    "\n",
    "To fix this we can use the `int()` function to convert the string\n",
    "to an integer, or the `str()` function to convert the integer to a string.\n",
    "This is called casting. Depending on the situation, you may need to cast\n",
    "the variable as a different type.\n",
    "\n",
    "If you would like to add the numbers as integers, you can cast `y` to an integer.\n",
    "If you would like to add the numbers as strings, you can cast `x` to a string.\n",
    "\n",
    "See what happens when you do each!\n",
    "'''\n",
    "print(\"Add as strings: \", str(x) + y)\n",
    "print(\"Add as integers: \", x + int(y))\n",
    "\n",
    "# note that this is another way to print rather than using the f\"()\" syntax\n",
    "# we can use the .format() method on a string and pass in the variables as well\n",
    "# but this is a little easier to read, where you just add the variable after the comma"
   ]
  }
 ],
 "metadata": {
  "kernelspec": {
   "display_name": "Python 3",
   "language": "python",
   "name": "python3"
  },
  "language_info": {
   "codemirror_mode": {
    "name": "ipython",
    "version": 3
   },
   "file_extension": ".py",
   "mimetype": "text/x-python",
   "name": "python",
   "nbconvert_exporter": "python",
   "pygments_lexer": "ipython3",
   "version": "3.11.1"
  },
  "vscode": {
   "interpreter": {
    "hash": "aee8b7b246df8f9039afb4144a1f6fd8d2ca17a180786b69acc140d282b71a49"
   }
  }
 },
 "nbformat": 4,
 "nbformat_minor": 5
}
