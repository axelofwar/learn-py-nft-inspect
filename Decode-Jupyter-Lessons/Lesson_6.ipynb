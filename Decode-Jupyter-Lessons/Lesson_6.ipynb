{
 "cells": [
  {
   "attachments": {},
   "cell_type": "markdown",
   "metadata": {},
   "source": [
    "# LESSON 6 - LISTS AND DICTIONARIES\n",
    "\n",
    "Lists are one of Python's most powerful data types. A `list` is a collection which is ordered and changeable. In Python lists are written with [square brackets]. Lists are similar to arrays, however they differ in that all the items belonging to a list *can be of different data types*. Lists are also referenced regularly with `dictionaries` - the difference being that dictionaries can contain multiple lists and dictionaries whereas, a *list cannot contain a dictionary*."
   ]
  },
  {
   "attachments": {},
   "cell_type": "markdown",
   "metadata": {},
   "source": [
    "### LISTS: "
   ]
  },
  {
   "cell_type": "code",
   "execution_count": null,
   "metadata": {},
   "outputs": [],
   "source": [
    "x = [1, 2, 3]\n",
    "y = [8, 9, 10]\n",
    "\n",
    "# For the following, DO NOT USE AN ASSIGNMENT (=)."
   ]
  },
  {
   "cell_type": "code",
   "execution_count": null,
   "metadata": {},
   "outputs": [],
   "source": [
    "# Change x so that it is [1, 2, 3, 4]\n",
    "x.append(4)\n",
    "print(x)"
   ]
  },
  {
   "cell_type": "code",
   "execution_count": null,
   "metadata": {},
   "outputs": [],
   "source": [
    "# Using y, change x so that it is [1, 2, 3, 4, 8, 9, 10]\n",
    "x.extend(y)\n",
    "print(x)"
   ]
  },
  {
   "cell_type": "code",
   "execution_count": null,
   "metadata": {},
   "outputs": [],
   "source": [
    "# Change x so that it is [1, 2, 3, 4, 9, 10]\n",
    "x.remove(8)\n",
    "print(x)"
   ]
  },
  {
   "cell_type": "code",
   "execution_count": null,
   "metadata": {},
   "outputs": [],
   "source": [
    "# Change x so that it is [1, 2, 3, 4, 9, 99, 10]\n",
    "x.insert(5, 99)\n",
    "print(x)"
   ]
  },
  {
   "cell_type": "code",
   "execution_count": null,
   "metadata": {},
   "outputs": [],
   "source": [
    "# Print the length of list x\n",
    "print(len(x))"
   ]
  },
  {
   "cell_type": "code",
   "execution_count": null,
   "metadata": {},
   "outputs": [],
   "source": [
    "# Print all the values in x multiplied by 1000\n",
    "for item in x:\n",
    "    print(item * 1000)"
   ]
  },
  {
   "cell_type": "code",
   "execution_count": null,
   "metadata": {},
   "outputs": [],
   "source": [
    "# Print the max value of x\n",
    "print(\"Max: \", max(x))\n",
    "\n",
    "# Print the min value of x\n",
    "print(\"Min: \", min(x))\n",
    "\n",
    "# Print the average of x\n",
    "print(\"Average: \", sum(x) / len(x))"
   ]
  },
  {
   "cell_type": "code",
   "execution_count": null,
   "metadata": {},
   "outputs": [],
   "source": [
    "# Print the product of all the numbers in x\n",
    "product = 1\n",
    "for item in x:\n",
    "    product *= item"
   ]
  },
  {
   "attachments": {},
   "cell_type": "markdown",
   "metadata": {},
   "source": [
    "### DICTIONARIES: \n",
    "`Dictionaries` are a data structure that allows you to store key-value pairs. If you have a list of dictionaries, you can sort them by a particular key. Lists of dictionaries are a common way to store data in Python.\n",
    "\n",
    "If you recall from our lesson data types where we briefly touched on YAML and JSON, YAML is also based on keypairs so it will work very well with python dictionaries. This makes dictionaries very useful when working with databased and other SQL based data formats. "
   ]
  },
  {
   "cell_type": "code",
   "execution_count": 7,
   "metadata": {},
   "outputs": [
    {
     "name": "stdout",
     "output_type": "stream",
     "text": [
      "Dictionary x:  {'name': 'Chris', 'city': 'Seattle', 'cake': 'Chocolate'}\n",
      "Cake Deleted:  {'name': 'Chris', 'city': 'Seattle'}\n"
     ]
    }
   ],
   "source": [
    "# Print a dictionary x that holds the following key-value pairs:\n",
    "# \"name\": \"Chris\"\n",
    "# \"city\": \"Seattle\"\n",
    "# \"cake\": \"Chocolate\"\n",
    "x = {\n",
    "    \"name\": \"Chris\",\n",
    "    \"city\": \"Seattle\",\n",
    "    \"cake\": \"Chocolate\"\n",
    "}\n",
    "\n",
    "# Print the dictionary.\n",
    "print(\"Dictionary x: \",x)\n",
    "\n",
    "# Delete the entry for \"cake\".\n",
    "del x[\"cake\"]\n",
    "\n",
    "# Print the dictionary.\n",
    "print(\"Cake Deleted: \", x)"
   ]
  },
  {
   "cell_type": "code",
   "execution_count": 8,
   "metadata": {},
   "outputs": [
    {
     "name": "stdout",
     "output_type": "stream",
     "text": [
      "Fruit Added:  {'name': 'Chris', 'city': 'Seattle', 'fruit': 'Mango'}\n"
     ]
    }
   ],
   "source": [
    "# Add an entry for \"fruit\" with \"Mango\" and print the dictionary.\n",
    "x[\"fruit\"] = \"Mango\"\n",
    "print(\"Fruit Added: \", x)"
   ]
  },
  {
   "cell_type": "code",
   "execution_count": 9,
   "metadata": {},
   "outputs": [
    {
     "name": "stdout",
     "output_type": "stream",
     "text": [
      "Dictionary Keys:  dict_keys(['name', 'city', 'fruit'])\n",
      "Dictionary Values:  dict_values(['Chris', 'Seattle', 'Mango'])\n"
     ]
    }
   ],
   "source": [
    "# Print the dictionary keys.\n",
    "print(\"Dictionary Keys: \", x.keys())\n",
    "\n",
    "# Print the dictionary values.\n",
    "print(\"Dictionary Values: \", x.values())"
   ]
  },
  {
   "cell_type": "code",
   "execution_count": 10,
   "metadata": {},
   "outputs": [
    {
     "name": "stdout",
     "output_type": "stream",
     "text": [
      "Is Cake in x:  False\n",
      "Is Mango in x:  True\n"
     ]
    }
   ],
   "source": [
    "# Print whether or not \"cake\" is a key in the dictionary (i.e. False) (now).\n",
    "print(\"Is Cake in x: \", \"cake\" in x)\n",
    "\n",
    "# Print whether or not \"Mango\" is a value in the dictionary (i.e. True).\n",
    "print(\"Is Mango in x: \", \"Mango\" in x.values())"
   ]
  },
  {
   "cell_type": "code",
   "execution_count": 11,
   "metadata": {},
   "outputs": [
    {
     "name": "stdout",
     "output_type": "stream",
     "text": [
      "T Count Dictionary:  {'name': 0, 'city': 2, 'fruit': 0}\n"
     ]
    }
   ],
   "source": [
    "# Print the dictionary with the same keypairs, but the data\n",
    "# replaced with the number of t's from that keypair's value - consider lower and upper case\n",
    "for key, value in x.items():\n",
    "    x[key] = value.lower().count(\"t\")\n",
    "    x[key] = value.upper().count(\"T\")\n",
    "\n",
    "# Print the dictionary.\n",
    "print(\"T Count Dictionary: \", x)"
   ]
  }
 ],
 "metadata": {
  "kernelspec": {
   "display_name": "Python 3",
   "language": "python",
   "name": "python3"
  },
  "language_info": {
   "codemirror_mode": {
    "name": "ipython",
    "version": 3
   },
   "file_extension": ".py",
   "mimetype": "text/x-python",
   "name": "python",
   "nbconvert_exporter": "python",
   "pygments_lexer": "ipython3",
   "version": "3.8.10"
  },
  "orig_nbformat": 4,
  "vscode": {
   "interpreter": {
    "hash": "aee8b7b246df8f9039afb4144a1f6fd8d2ca17a180786b69acc140d282b71a49"
   }
  }
 },
 "nbformat": 4,
 "nbformat_minor": 2
}
