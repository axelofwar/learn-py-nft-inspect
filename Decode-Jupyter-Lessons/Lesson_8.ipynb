{
 "cells": [
  {
   "attachments": {},
   "cell_type": "markdown",
   "metadata": {},
   "source": [
    "# LESSON 8 - CONDITIONAL STATEMENTS AND TRY/EXCEPT BLOCKS\n",
    "Python has a number of conditional statements that allow your code to execute under different conditions. Research how to use the `if`, `elif`, and `else` statements in Python. "
   ]
  },
  {
   "attachments": {},
   "cell_type": "markdown",
   "metadata": {},
   "source": [
    "### IF STATEMENTS:\n",
    "Using if and else, and its variations, we can tell our code to do different things\n",
    "depending on the value of a variable, the state of a program or user input, etc."
   ]
  },
  {
   "cell_type": "code",
   "execution_count": null,
   "metadata": {},
   "outputs": [],
   "source": [
    "# Write a function is_even that will return true if the passed-in number is even.\n",
    "\n",
    "def is_even(num):\n",
    "    if num % 2 == 0:\n",
    "        return True\n",
    "    else:\n",
    "        return False\n",
    "\n",
    "print(\"2 is even: \", is_even(2))  # True\n",
    "print(\"3 is even: \", is_even(3))  # False\n",
    "\n",
    "if is_even(2):\n",
    "    num = 2**2\n",
    "\n",
    "print(\"Even number squared: \", num)"
   ]
  },
  {
   "attachments": {},
   "cell_type": "markdown",
   "metadata": {},
   "source": [
    "### USER INPUT: \n",
    "We can also take input in python code from a user in the terminal in the form of a string, then that input can be used to do something in our code. You may need to conver it for you conditional comparison. For example, we can ask a user for a number and then print out whether that number is even or odd."
   ]
  },
  {
   "cell_type": "code",
   "execution_count": 1,
   "metadata": {},
   "outputs": [],
   "source": [
    "# Read a number from the keyboard\n",
    "num = input(\"Enter a number: \")\n",
    "num = int(num)\n",
    "print(\"You entered: \", num)\n",
    "print(\"Even!\" if is_even(num) else \"Odd\")  # in-line if-else statement\n"
   ]
  },
  {
   "attachments": {},
   "cell_type": "markdown",
   "metadata": {},
   "source": [
    "### TRY AND EXCEPT STATEMENTS:\n",
    "`try` and `except` blocks allow us to handle specific use cases\n",
    "and errors associated with them in our code. Use these statements when we\n",
    "want our program to attempt to execute a block of code, but we want to handle a specific\n",
    "error do something else specific in the case that the block can't be executed"
   ]
  },
  {
   "cell_type": "code",
   "execution_count": null,
   "metadata": {},
   "outputs": [],
   "source": [
    "# Write a function that tries to tell if an inpur is even or odd\n",
    "# and returns a string that says \"Even!\" or \"Odd!\" depending on the input.\n",
    "# Or returns \"Invalid input\" if the input is not a number.\n",
    "\n",
    "def is_even_or_odd(num):\n",
    "    try:\n",
    "        if is_even(num):\n",
    "            return \"Even!\"\n",
    "        else:\n",
    "            return \"Odd!\"\n",
    "    except ValueError:\n",
    "        return \"Invalid input\"\n",
    "    except:\n",
    "        return \"Input must be a number\"\n",
    "\n",
    "print(\"is_even_or_odd(num): \", is_even_or_odd(num))\n",
    "\n",
    "# Try inputting something other than a numeber and see what happens!\n",
    "\n",
    "'''\n",
    "We can pass a specific error type to the except statement to handle a specific error.\n",
    "For example, we can handle a ValueError if the user inputs a string that can't be\n",
    "converted to an integer. Or we can pass a generic error type to the except statement\n",
    "to handle any error that occurs in the try block.\n",
    "'''"
   ]
  }
 ],
 "metadata": {
  "kernelspec": {
   "display_name": "Python 3",
   "language": "python",
   "name": "python3"
  },
  "language_info": {
   "codemirror_mode": {
    "name": "ipython",
    "version": 3
   },
   "file_extension": ".py",
   "mimetype": "text/x-python",
   "name": "python",
   "nbconvert_exporter": "python",
   "pygments_lexer": "ipython3",
   "version": "3.8.10"
  },
  "orig_nbformat": 4,
  "vscode": {
   "interpreter": {
    "hash": "aee8b7b246df8f9039afb4144a1f6fd8d2ca17a180786b69acc140d282b71a49"
   }
  }
 },
 "nbformat": 4,
 "nbformat_minor": 2
}
