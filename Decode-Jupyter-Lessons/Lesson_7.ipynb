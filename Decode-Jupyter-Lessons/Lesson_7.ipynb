{
 "cells": [
  {
   "attachments": {},
   "cell_type": "markdown",
   "metadata": {},
   "source": [
    "# LESSON 7 - SLICING\n",
    "Slicing allows us specific syntax (coding langauge) that can make it easy to reference only a portion of a list or string. This stack overflow [link](https://stackoverflow.com/a/509295) has a brief explanation of slicing. Accessing only parts of a list, or specific elements in a list, that ultimately allows us to use specific data.\n"
   ]
  },
  {
   "cell_type": "code",
   "execution_count": null,
   "metadata": {},
   "outputs": [],
   "source": [
    "# Define a list for us to work with\n",
    "a = [2, 4, 1, 7, 9, 6]"
   ]
  },
  {
   "cell_type": "code",
   "execution_count": null,
   "metadata": {},
   "outputs": [],
   "source": [
    "# Output the second element: 4:\n",
    "print(\"Second Element: \", a[1])\n",
    "\n",
    "# Output the second-to-last element: 9\n",
    "print(\"Second to Last Element: \", a[-2])"
   ]
  },
  {
   "cell_type": "code",
   "execution_count": null,
   "metadata": {},
   "outputs": [],
   "source": [
    "# Output the last three elements in the array: [7, 9, 6]\n",
    "print(\"Last 3: \", a[-3:])\n",
    "\n",
    "# Output the two middle elements in the array: [1, 7]\n",
    "print(\"Middle 3: \", a[2:4])"
   ]
  },
  {
   "cell_type": "code",
   "execution_count": null,
   "metadata": {},
   "outputs": [],
   "source": [
    "# Output every element except the first one: [4, 1, 7, 9, 6]\n",
    "print(\"All elements except the first: \", a[1:])\n",
    "\n",
    "# Output every element except the last one: [2, 4, 1, 7, 9]\n",
    "print(\"All elements except the last: \", a[:-1])"
   ]
  }
 ],
 "metadata": {
  "kernelspec": {
   "display_name": "Python 3",
   "language": "python",
   "name": "python3"
  },
  "language_info": {
   "codemirror_mode": {
    "name": "ipython",
    "version": 3
   },
   "file_extension": ".py",
   "mimetype": "text/x-python",
   "name": "python",
   "nbconvert_exporter": "python",
   "pygments_lexer": "ipython3",
   "version": "3.8.10"
  },
  "orig_nbformat": 4,
  "vscode": {
   "interpreter": {
    "hash": "aee8b7b246df8f9039afb4144a1f6fd8d2ca17a180786b69acc140d282b71a49"
   }
  }
 },
 "nbformat": 4,
 "nbformat_minor": 2
}
