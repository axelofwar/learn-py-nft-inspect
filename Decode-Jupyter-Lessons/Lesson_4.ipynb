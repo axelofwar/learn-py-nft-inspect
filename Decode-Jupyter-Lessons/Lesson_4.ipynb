{
 "cells": [
  {
   "attachments": {},
   "cell_type": "markdown",
   "metadata": {},
   "source": [
    "# LESSON 4 - MODULES AND SYSTEM VARIABLES\n",
    "\n",
    "### MODULES: \n",
    "Modules are files that contain python code. they are used to organize code and\n",
    "make it easier to reuse. modules can be imported into other modules or into the\n",
    "interactive interpreter. modules can also be imported from the standard library\n",
    "or from other people's code. modules can be imported using the `import` keyword.\n",
    "\n",
    "You can think of them as pre-made packges that we'd like to use in our code via `import`. In this lesson, we'll be playing with the sys module which allows you to access many system specific variables and methods. We'll be explroring the os module, which gives you access to lower-level os functionality and information about your environment.\n",
    "\n",
    "If you would like to import modules that are not part of python's standard package library, you will need to install them first! You can do this by finding the install file online or you can use python's package manager pip - most packages that are published and verified will have been added to pip and you'll just need to search the keyword to install"
   ]
  },
  {
   "cell_type": "code",
   "execution_count": 2,
   "metadata": {},
   "outputs": [],
   "source": [
    "'''\n",
    "We can use the os and sys modules in our code to get information about the\n",
    "environment we're running in. This can be useful for debugging, or for\n",
    "dynamically configuring our code based on the environment it's running in.\n",
    "\n",
    "To use this in our code we need to import the modules. We can import the\n",
    "entire module, or we can import specific attributes from the module. We can\n",
    "also import modules under a different name, or import all attributes from a\n",
    "module into the current namespace.\n",
    "'''\n",
    "import os\n",
    "import sys as s"
   ]
  },
  {
   "cell_type": "code",
   "execution_count": 3,
   "metadata": {},
   "outputs": [
    {
     "name": "stdout",
     "output_type": "stream",
     "text": [
      "SYS ARGV:  ['/Users/axelofwar/Library/Python/3.8/lib/python/site-packages/ipykernel_launcher.py', '-f', '/Users/axelofwar/Library/Jupyter/runtime/kernel-d09d94e6-1ad1-4d4d-9736-103541469bd8.json']\n",
      "/Users/axelofwar/Library/Python/3.8/lib/python/site-packages/ipykernel_launcher.py\n",
      "-f\n",
      "/Users/axelofwar/Library/Jupyter/runtime/kernel-d09d94e6-1ad1-4d4d-9736-103541469bd8.json\n"
     ]
    }
   ],
   "source": [
    "# Print out the command line arguments in sys.argv - any arguments you pass to the command\n",
    "# line after calling python3 filename.py will be accessed in argv. Print one per line:\n",
    "print(\"SYS ARGV: \", s.argv)\n",
    "for item in s.argv:\n",
    "    print(item)"
   ]
  },
  {
   "cell_type": "code",
   "execution_count": 4,
   "metadata": {},
   "outputs": [
    {
     "name": "stdout",
     "output_type": "stream",
     "text": [
      "OS Platform:  darwin\n"
     ]
    }
   ],
   "source": [
    "# Print out the OS platform you're using:\n",
    "print(\"OS Platform: \", s.platform)\n",
    "\n",
    "# Because we are using jupyter notebook this will return the version of jupyter and not \n",
    "# the operating system hosting the jupyter notebook - in this case I am on jupyter darwin"
   ]
  },
  {
   "cell_type": "code",
   "execution_count": 5,
   "metadata": {},
   "outputs": [
    {
     "name": "stdout",
     "output_type": "stream",
     "text": [
      "Python Version:  3.8.10 (v3.8.10:3d8993a744, May  3 2021, 09:09:08) \n",
      "[Clang 12.0.5 (clang-1205.0.22.9)]\n"
     ]
    }
   ],
   "source": [
    "# Print out the version of Python you're using:\n",
    "print(\"Python Version: \", s.version)"
   ]
  },
  {
   "cell_type": "code",
   "execution_count": 6,
   "metadata": {},
   "outputs": [
    {
     "name": "stdout",
     "output_type": "stream",
     "text": [
      "Current Process ID:  30780\n"
     ]
    }
   ],
   "source": [
    "# Print the current process ID\n",
    "print(\"Current Process ID: \", os.getpid())"
   ]
  },
  {
   "cell_type": "code",
   "execution_count": 7,
   "metadata": {},
   "outputs": [
    {
     "name": "stdout",
     "output_type": "stream",
     "text": [
      "Current Working Directory:  /Users/axelofwar/Projects/learn-py-nft-inspect\n"
     ]
    }
   ],
   "source": [
    "# Print the current working directory (cwd) -  the directory in which your\n",
    "# python program is running:\n",
    "print(\"Current Working Directory: \", os.getcwd())"
   ]
  },
  {
   "cell_type": "code",
   "execution_count": 8,
   "metadata": {},
   "outputs": [
    {
     "name": "stdout",
     "output_type": "stream",
     "text": [
      "Machine Login Name:  root\n"
     ]
    }
   ],
   "source": [
    "# Print out your machine's login name\n",
    "print(\"Machine Login Name: \", os.getlogin())"
   ]
  },
  {
   "cell_type": "code",
   "execution_count": null,
   "metadata": {},
   "outputs": [],
   "source": []
  }
 ],
 "metadata": {
  "kernelspec": {
   "display_name": "Python 3",
   "language": "python",
   "name": "python3"
  },
  "language_info": {
   "codemirror_mode": {
    "name": "ipython",
    "version": 3
   },
   "file_extension": ".py",
   "mimetype": "text/x-python",
   "name": "python",
   "nbconvert_exporter": "python",
   "pygments_lexer": "ipython3",
   "version": "3.8.10"
  },
  "orig_nbformat": 4,
  "vscode": {
   "interpreter": {
    "hash": "aee8b7b246df8f9039afb4144a1f6fd8d2ca17a180786b69acc140d282b71a49"
   }
  }
 },
 "nbformat": 4,
 "nbformat_minor": 2
}
