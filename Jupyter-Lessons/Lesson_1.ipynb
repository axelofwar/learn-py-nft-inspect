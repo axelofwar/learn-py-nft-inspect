{
 "cells": [
  {
   "cell_type": "code",
   "execution_count": 8,
   "id": "71ddd8ba",
   "metadata": {},
   "outputs": [],
   "source": [
    "'''\n",
    "Welcome to learning Python with Decode! This is a jupyter notebook - \n",
    "it allows us to do some cool things that make developing prototypes\n",
    "and sharing code MUCH easier - I'll show you what I mean in the lessons to come.\n",
    "'''\n",
    "num = 0"
   ]
  },
  {
   "cell_type": "code",
   "execution_count": 6,
   "id": "d363d4c7",
   "metadata": {},
   "outputs": [
    {
     "data": {
      "text/plain": [
       "'\\nThis is an example of a block comment. These are used to describe\\nwhat a block of code is doing. It\\'s a good habit to get into writing\\ncomments in your code.\\n\\nBelow is an example of a print statement. \\nA print statement is a way to output data to the terminal.\\n\\nThe data being output is called an argument.\\nArguments are passed into functions.\\nFunctions are reusable blocks of code that perform a specific task.\\nIn this case, the print function outputs data to the terminal.\\n\\nThe print function is one of many built-in functions in Python.\\nprint takes in one argument, which is the data to be output.\\nin this case, the argument is the string \"Hello, world!\"\\n'"
      ]
     },
     "execution_count": 6,
     "metadata": {},
     "output_type": "execute_result"
    }
   ],
   "source": [
    "# LESSON 1 - PRINT STATEMENTS AND STRINGS\n",
    "'''\n",
    "This is an example of a block comment. These are used to describe\n",
    "what a block of code is doing. It's a good habit to get into writing\n",
    "comments in your code.\n",
    "\n",
    "Below is an example of a print statement. \n",
    "A print statement is a way to output data to the terminal.\n",
    "\n",
    "The data being output is called an argument.\n",
    "Arguments are passed into functions.\n",
    "Functions are reusable blocks of code that perform a specific task.\n",
    "In this case, the print function outputs data to the terminal.\n",
    "\n",
    "The print function is one of many built-in functions in Python.\n",
    "print takes in one argument, which is the data to be output.\n",
    "in this case, the argument is the string \"Hello, world!\"\n",
    "\n",
    "There will be another short lesson on the print function and \n",
    "how to use it to output data to the terminal later!\n",
    "'''"
   ]
  },
  {
   "cell_type": "code",
   "execution_count": 5,
   "id": "40c6bfb8",
   "metadata": {},
   "outputs": [
    {
     "name": "stdout",
     "output_type": "stream",
     "text": [
      "Hello World\n"
     ]
    }
   ],
   "source": [
    "print(\"Hello World\")"
   ]
  },
  {
   "attachments": {},
   "cell_type": "markdown",
   "id": "7f82f5b6",
   "metadata": {},
   "source": [
    "##### **This is a Markdown block**\n",
    "\n",
    "One of the cool features in jupyter is that we can include markdown within our python code to make formatting comments and discussion much nicer. Instead of using block comments like the orange text in previous lessons (which leaves ugly output sometimes if you run the cell) - we can use markdown - which you're familiar with if you use discord messages! Jupyter notebooks also have runnable cells that package most of your imports and make runnign the code easier when shared. There are two advantage over other IDEs that make it more beginner friendly (although vs code also has jupyter extensions that I'm using to make this). Running a markdown block will also not affect your cell run count.\n"
   ]
  },
  {
   "attachments": {},
   "cell_type": "markdown",
   "id": "e0cb055f",
   "metadata": {},
   "source": [
    "Below we will show how you can maniuplate the strings passed to the print statement\n",
    "Once you are comfortable passing data to a variable - then passing that variable\n",
    "to the print function - then we'll show other ways to print the variables"
   ]
  },
  {
   "cell_type": "code",
   "execution_count": 12,
   "id": "795f8242",
   "metadata": {},
   "outputs": [
    {
     "name": "stdout",
     "output_type": "stream",
     "text": [
      "My name is Axel, student number 4 and python is so much fun!\n"
     ]
    }
   ],
   "source": [
    "num += 1\n",
    "name = \"Axel\"\n",
    "intro = \"My name is \"\n",
    "body = \" student number \"\n",
    "ending = \" and python is so much fun!\"\n",
    "\n",
    "print(f\"{intro}{name},{body}{num}{ending}\")\n"
   ]
  },
  {
   "attachments": {},
   "cell_type": "markdown",
   "id": "e83ba867",
   "metadata": {},
   "source": [
    "You can see we use the `f\"()\"` declaration - which is similar to using .format() on the end of your print statement. This will allow you pass values to your print string cleanly when you have multiple. We also add a space to the start of each line after the first because we want proper spacing in the statement we print out. There is also a comma added in the print statement to show how you can add non variables into your formatted print string.\n",
    "\n",
    "Try to enter your name, and each time you run it the student number will go up! This is because we have the num variable! We could set \n",
    "```\n",
    "num = num+1\n",
    "```\n",
    "but it's much cleaner to increment using the `=+` operator - which takes the variable on the left and implements the same method as above"
   ]
  }
 ],
 "metadata": {
  "kernelspec": {
   "display_name": "Python 3",
   "language": "python",
   "name": "python3"
  },
  "language_info": {
   "codemirror_mode": {
    "name": "ipython",
    "version": 3
   },
   "file_extension": ".py",
   "mimetype": "text/x-python",
   "name": "python",
   "nbconvert_exporter": "python",
   "pygments_lexer": "ipython3",
   "version": "3.11.1"
  },
  "vscode": {
   "interpreter": {
    "hash": "aee8b7b246df8f9039afb4144a1f6fd8d2ca17a180786b69acc140d282b71a49"
   }
  }
 },
 "nbformat": 4,
 "nbformat_minor": 5
}
