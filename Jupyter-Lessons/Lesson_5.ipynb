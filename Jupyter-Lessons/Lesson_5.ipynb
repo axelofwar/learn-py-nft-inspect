{
 "cells": [
  {
   "attachments": {},
   "cell_type": "markdown",
   "metadata": {},
   "source": [
    "# LESSON 5 - PRINT METHODS\n",
    "\n",
    "Python provides a number of ways to perform printing. Research how to print using the print operator, the `format` string method, and by using f-strings. Print statememnts are useful for monitoring the status and progress of your program - as well as printing detailed error messages to the console at points in your program in order to debug and figure out what's gong wrong!"
   ]
  },
  {
   "cell_type": "code",
   "execution_count": 5,
   "metadata": {},
   "outputs": [],
   "source": [
    "x = 10\n",
    "y = 2.24552\n",
    "z = \"I like turtles!\""
   ]
  },
  {
   "cell_type": "code",
   "execution_count": 6,
   "metadata": {},
   "outputs": [
    {
     "name": "stdout",
     "output_type": "stream",
     "text": [
      "x is 10, y is 2.245520, z is I like turtles!\n"
     ]
    }
   ],
   "source": [
    "# We can use the print operator (%) to print out variables in a string\n",
    "print(\"x is %d, y is %f, z is %s\" % (x, y, z))"
   ]
  },
  {
   "cell_type": "code",
   "execution_count": 7,
   "metadata": {},
   "outputs": [
    {
     "name": "stdout",
     "output_type": "stream",
     "text": [
      "x is 10, y is 2.24552, z is I like turtles!\n"
     ]
    }
   ],
   "source": [
    "# We can use the format string method to print out variables in a string\n",
    "print(\"x is {}, y is {}, z is {}\".format(x, y, z))"
   ]
  },
  {
   "cell_type": "code",
   "execution_count": 8,
   "metadata": {},
   "outputs": [
    {
     "name": "stdout",
     "output_type": "stream",
     "text": [
      "x is 10, y is 2.24552, z is I like turtles!\n"
     ]
    }
   ],
   "source": [
    "# Finally, we can use an f-string to print out variables in a string - similar to inline format\n",
    "print(f\"x is {x}, y is {y}, z is {z}\")"
   ]
  }
 ],
 "metadata": {
  "kernelspec": {
   "display_name": "Python 3",
   "language": "python",
   "name": "python3"
  },
  "language_info": {
   "codemirror_mode": {
    "name": "ipython",
    "version": 3
   },
   "file_extension": ".py",
   "mimetype": "text/x-python",
   "name": "python",
   "nbconvert_exporter": "python",
   "pygments_lexer": "ipython3",
   "version": "3.8.10"
  },
  "orig_nbformat": 4,
  "vscode": {
   "interpreter": {
    "hash": "aee8b7b246df8f9039afb4144a1f6fd8d2ca17a180786b69acc140d282b71a49"
   }
  }
 },
 "nbformat": 4,
 "nbformat_minor": 2
}
